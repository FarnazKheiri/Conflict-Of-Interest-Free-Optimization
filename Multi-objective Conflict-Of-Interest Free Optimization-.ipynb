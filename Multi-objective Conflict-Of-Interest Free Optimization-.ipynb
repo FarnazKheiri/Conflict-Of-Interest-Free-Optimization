{
 "cells": [
  {
   "cell_type": "code",
   "execution_count": 1,
   "id": "083f2d21",
   "metadata": {},
   "outputs": [
    {
     "name": "stderr",
     "output_type": "stream",
     "text": [
      "C:\\Users\\kheir\\anaconda3\\lib\\site-packages\\pandas\\core\\arrays\\masked.py:60: UserWarning: Pandas requires version '1.3.6' or newer of 'bottleneck' (version '1.3.5' currently installed).\n",
      "  from pandas.core import (\n"
     ]
    }
   ],
   "source": [
    "import tensorflow as tf\n",
    "from sklearn.model_selection import train_test_split\n",
    "from tensorflow.keras.models import load_model\n",
    "from tensorflow import keras\n",
    "from tensorflow.keras import layers, models\n",
    "import numpy as np\n",
    "import pickle\n",
    "\n",
    "\n",
    "from numpy import argmax\n",
    "from sklearn.neighbors import KNeighborsClassifier\n",
    "from sklearn import metrics\n",
    "\n",
    "## optimization packages\n",
    "from pymoo.algorithms.moo.nsga2 import NSGA2\n",
    "from pymoo.optimize import minimize\n"
   ]
  },
  {
   "cell_type": "markdown",
   "id": "fe6e046e",
   "metadata": {},
   "source": [
    "### load Data "
   ]
  },
  {
   "cell_type": "code",
   "execution_count": 3,
   "id": "49705f1d",
   "metadata": {},
   "outputs": [],
   "source": [
    "#load\n",
    "filename = './data/train_balanced_images.pickle'\n",
    "with open(filename, 'rb') as file:\n",
    "    train_balanced_images = pickle.load(file)\n",
    "filename = './data/train_balanced_center_labels.pickle'\n",
    "with open(filename, 'rb') as file:\n",
    "    train_balanced_center_labels = pickle.load(file)\n",
    "filename = './data/train_balanced_cancer_labels.pickle'\n",
    "with open(filename, 'rb') as file:\n",
    "    train_balanced_cancer_labels = pickle.load(file)\n",
    "    "
   ]
  },
  {
   "cell_type": "code",
   "execution_count": 4,
   "id": "fb1cb592",
   "metadata": {},
   "outputs": [],
   "source": [
    "#load external data\n",
    "filename = './data/external_images.pickle'\n",
    "with open(filename, 'rb') as file:\n",
    "    external_images = pickle.load(file)\n",
    "filename = './data/external_center_labels.pickle'\n",
    "with open(filename, 'rb') as file:\n",
    "    external_center_labels = pickle.load(file)\n",
    "filename = './data/external_cancer_labels.pickle'\n",
    "with open(filename, 'rb') as file:\n",
    "    external_cancer_labels = pickle.load(file)"
   ]
  },
  {
   "cell_type": "markdown",
   "id": "93393852",
   "metadata": {},
   "source": [
    "### Data Spilit"
   ]
  },
  {
   "cell_type": "code",
   "execution_count": null,
   "id": "752fbdbf",
   "metadata": {},
   "outputs": [],
   "source": [
    "# First split: training and temporary (for validation and test)\n",
    "train_data, temp_data, train_cancer_labels, temp_cancer_labels, train_center_labels, temp_center_labels = train_test_split(\n",
    "    train_balanced_images,\n",
    "    train_balanced_cancer_labels,\n",
    "    train_balanced_center_labels,\n",
    "    test_size=0.2  # 20% for validation and test\n",
    ")\n",
    "\n",
    "# Second split: validation and test\n",
    "validation_data, test_data, validation_cancer_labels, test_cancer_labels, validation_center_labels, test_center_labels = train_test_split(\n",
    "    temp_data,\n",
    "    temp_cancer_labels,\n",
    "    temp_center_labels,\n",
    "    test_size=0.5  # Split the remaining 20% into two halves\n",
    ")\n"
   ]
  },
  {
   "cell_type": "markdown",
   "id": "fbe1e165",
   "metadata": {},
   "source": [
    "### load pretrained model"
   ]
  },
  {
   "cell_type": "code",
   "execution_count": 6,
   "id": "ffedbe72",
   "metadata": {},
   "outputs": [],
   "source": [
    "path = \"./pretrained_model\" \n",
    "pretrained_model = load_model(path)"
   ]
  },
  {
   "cell_type": "code",
   "execution_count": 7,
   "id": "471c3a03",
   "metadata": {},
   "outputs": [
    {
     "name": "stdout",
     "output_type": "stream",
     "text": [
      "375/375 [==============================] - 20s 46ms/step\n",
      "47/47 [==============================] - 3s 46ms/step\n",
      "47/47 [==============================] - 2s 46ms/step\n"
     ]
    }
   ],
   "source": [
    "#  extract features\n",
    "layer_output_model = tf.keras.Model(inputs=pretrained_model.input, outputs=pretrained_model.layers[-2].output)\n",
    "train_feature = layer_output_model.predict(training_data)\n",
    "validation_feature = layer_output_model.predict(validation_data)\n",
    "test_feature = layer_output_model.predict(test_data)\n",
    "external_feature = layer_output_model.predict(external_images)"
   ]
  },
  {
   "cell_type": "code",
   "execution_count": null,
   "id": "263e1957",
   "metadata": {},
   "outputs": [],
   "source": [
    "# cancer classification\n",
    "k = 3\n",
    "classifier = KNeighborsClassifier(n_neighbors = k)\n",
    "classifier.fit(train_feature, training_cancer_labels)\n",
    "cancer_y_pred = classifier.predict(test_feature)\n",
    "# metrics.accuracy_score(cancer_y_pred,test_cancer_labels)\n",
    "metrics.f1_score(cancer_y_pred,test_cancer_labels ,average='weighted')"
   ]
  },
  {
   "cell_type": "code",
   "execution_count": null,
   "id": "c26d985f",
   "metadata": {},
   "outputs": [],
   "source": [
    "# External cancer classification\n",
    "k = 3\n",
    "classifier = KNeighborsClassifier(n_neighbors = k)\n",
    "classifier.fit(train_feature, training_cancer_labels)\n",
    "cancer_y_pred = classifier.predict(external_feature)\n",
    "# metrics.accuracy_score(cancer_y_pred,external_cancer_labels)\n",
    "metrics.f1_score(cancer_y_pred,external_cancer_labels,average='weighted')"
   ]
  },
  {
   "cell_type": "markdown",
   "id": "efb414d5",
   "metadata": {},
   "source": [
    "### Finetuning parameters "
   ]
  },
  {
   "cell_type": "code",
   "execution_count": 10,
   "id": "48be9821",
   "metadata": {},
   "outputs": [],
   "source": [
    "# pretrained\n",
    "pretarined_output = pretrained_model.layers[-2].output\n",
    "input_size = pretarined_output.shape[1]\n",
    "\n",
    "# Fine-tuning layers\n",
    "# Dense128 & Dense2\n",
    "layer_nodes = [train_feature.shape[1],8]\n",
    "\n",
    "num_weights = sum( layer_nodes[idx]*layer_nodes[idx+1] for idx in range(len(layer_nodes )-1))"
   ]
  },
  {
   "cell_type": "code",
   "execution_count": 11,
   "id": "c13b2f45",
   "metadata": {},
   "outputs": [],
   "source": [
    "def relu(inpt):\n",
    "    result = inpt\n",
    "    result[inpt < 0] = 0\n",
    "    return result"
   ]
  },
  {
   "cell_type": "code",
   "execution_count": 12,
   "id": "261e049c",
   "metadata": {},
   "outputs": [],
   "source": [
    "def feature_extractor(data,sol_weight):\n",
    "    features = [] \n",
    "    for sample_idx in range(data.shape[0]):\n",
    "        r1 = data[sample_idx,:]\n",
    "\n",
    "        r1 = np.matmul(r1, sol_weight)\n",
    "        r1 = relu(r1)         \n",
    "        features.append(r1)  \n",
    "    return features"
   ]
  },
  {
   "cell_type": "markdown",
   "id": "af139e9d",
   "metadata": {},
   "source": [
    "### Define the Optimization Problem"
   ]
  },
  {
   "cell_type": "code",
   "execution_count": 13,
   "id": "edc9d214",
   "metadata": {},
   "outputs": [],
   "source": [
    "import numpy as np\n",
    "from pymoo.core.problem import ElementwiseProblem\n",
    "\n",
    "class WeightOptimizationProblem(ElementwiseProblem):\n",
    "    def __init__(self, num_weights):\n",
    "        super().__init__(n_var=num_weights,  \n",
    "                         n_obj=2,            \n",
    "                         n_constr=0,         \n",
    "                         xl=-1*(np.ones(num_weights)),  # Lower bounds of weights\n",
    "                         xu=np.ones(num_weights))   # Upper bounds of weights\n",
    "\n",
    "    def _evaluate(self, weights_vector, out, *args, **kwargs):\n",
    "        weights_mat = weights_vector.reshape(layer_nodes[0], layer_nodes[1])\n",
    "        \n",
    "        finetuned_training_features = np.array(feature_extractor(train_feature,weights_mat))\n",
    "        finetuned_validation_features = np.array(feature_extractor(validation_feature,weights_mat))    \n",
    "        \n",
    "        cancer_f1score = compute_cancer_f1_score(finetuned_training_features,finetuned_validation_features) \n",
    "        center_f1score = compute_center_f1_score(finetuned_training_features,finetuned_validation_features) \n",
    "\n",
    "        out[\"F\"] = [center_f1score, -cancer_f1score]\n",
    "\n",
    "def compute_cancer_f1_score(finetuned_training_features,finetuned_validation_features):\n",
    "    validation_cancer_pred = KNN_class(finetuned_training_features,finetuned_validation_features)\n",
    "    cancer_f1score = metrics.f1_score(validation_cancer_labels,validation_cancer_pred, average='weighted')\n",
    "    return cancer_f1score  \n",
    "\n",
    "def compute_center_f1_score(finetuned_training_features,finetuned_validation_features):\n",
    "    classifier = KNeighborsClassifier(n_neighbors = 3)\n",
    "    classifier.fit(finetuned_training_features, training_center_labels)\n",
    "    validation_center_pred = classifier.predict(finetuned_validation_features)\n",
    "    center_f1score = metrics.f1_score(validation_center_labels,validation_center_pred, average='weighted')\n",
    "    return center_f1score  \n"
   ]
  },
  {
   "cell_type": "code",
   "execution_count": 14,
   "id": "ef71efd9",
   "metadata": {},
   "outputs": [],
   "source": [
    "def KNN_class(finetuned_training_features, finetuned_validation_features):\n",
    "    # Initialize an empty list to store the predictions\n",
    "    predictions = []\n",
    "\n",
    "    # Find unique center labels in the validation set\n",
    "    unique_center_labels = np.unique(validation_center_labels)\n",
    "\n",
    "    # Iterate over each unique center label\n",
    "    for center_label in unique_center_labels:\n",
    "        # Filter training samples that do not have the same center label as the current center label\n",
    "        mask = training_center_labels != center_label\n",
    "        mask = mask.reshape(-1)\n",
    "\n",
    "        filtered_training_features = finetuned_training_features[mask]\n",
    "        filtered_training_labels = training_cancer_labels[mask]\n",
    "        \n",
    "        # Create a KNN classifier\n",
    "        knn = KNeighborsClassifier(n_neighbors=3)  # Adjust n_neighbors as needed\n",
    "        knn.fit(filtered_training_features, filtered_training_labels)\n",
    "\n",
    "        \n",
    "        # Find all validation samples that have the current center label\n",
    "        validation_mask = validation_center_labels == center_label\n",
    "        validation_mask = validation_mask.reshape(-1)\n",
    "        validation_samples = finetuned_validation_features[validation_mask]\n",
    "\n",
    "\n",
    "        predicted_labels = knn.predict(validation_samples)\n",
    "\n",
    "        # Store the predicted labels\n",
    "        predictions.extend(predicted_labels)\n",
    "\n",
    "\n",
    "    predictions = np.array(predictions)\n",
    "    return predictions\n"
   ]
  },
  {
   "cell_type": "code",
   "execution_count": null,
   "id": "b70786bb",
   "metadata": {},
   "outputs": [],
   "source": [
    "# number of weights\n",
    "num_weights = layer_nodes[0]*layer_nodes[1] \n",
    "\n",
    "# Create the problem object with the specified number of weights\n",
    "problem = WeightOptimizationProblem(num_weights)\n",
    "algorithm = NSGA2(\n",
    "    pop_size=200,\n",
    "    eliminate_duplicates=True\n",
    ")\n",
    "\n",
    "result = minimize(problem,\n",
    "                  algorithm,\n",
    "                  termination=('n_gen', 100),\n",
    "                  seed=1,\n",
    "                  save_history=False,\n",
    "                  verbose=True)"
   ]
  },
  {
   "cell_type": "code",
   "execution_count": null,
   "id": "bf4eafa7",
   "metadata": {},
   "outputs": [],
   "source": [
    "from pymoo.visualization.scatter import Scatter\n",
    "\n",
    "Scatter().add(result.F).show()"
   ]
  },
  {
   "cell_type": "code",
   "execution_count": null,
   "id": "f22167d1",
   "metadata": {},
   "outputs": [],
   "source": [
    "min_index_center = np.argmin(result.F[:, 0])\n",
    "min_index_cancer = np.argmin(result.F[:, 1])"
   ]
  },
  {
   "cell_type": "code",
   "execution_count": null,
   "id": "2cd456c9",
   "metadata": {},
   "outputs": [],
   "source": [
    "best_weight_vector = result.X[min_index_center]\n",
    "best_weight_mat = best_weight_vector.reshape(layer_nodes[0], layer_nodes[1])"
   ]
  },
  {
   "cell_type": "code",
   "execution_count": null,
   "id": "6259cb40",
   "metadata": {},
   "outputs": [],
   "source": [
    "## Extract Unleared features\n",
    "best_finetuned_train_features = np.array(feature_extractor(train_feature,best_weight_mat))\n",
    "\n",
    "best_finetuned_validation_features = np.array(feature_extractor(validation_feature,best_weight_mat))\n",
    "\n",
    "best_finetuned_external_features = np.array(feature_extractor(external_feature,best_weight_mat))\n",
    "\n",
    "best_finetuned_test_features = np.array(feature_extractor(test_feature,best_weight_mat))"
   ]
  },
  {
   "cell_type": "markdown",
   "id": "a1d385ff",
   "metadata": {},
   "source": [
    "## After Optimization Results"
   ]
  },
  {
   "cell_type": "code",
   "execution_count": null,
   "id": "f0affea7",
   "metadata": {},
   "outputs": [],
   "source": [
    "# internal cancer classification => test in train\n",
    "k = 3\n",
    "classifier = KNeighborsClassifier(n_neighbors = k)\n",
    "classifier.fit(best_finetuned_train_features, training_cancer_labels)\n",
    "cancer_y_pred = classifier.predict(best_finetuned_test_features)\n",
    "metrics.f1_score(cancer_y_pred,test_cancer_labels,average='weighted')"
   ]
  },
  {
   "cell_type": "code",
   "execution_count": null,
   "id": "a1e7fe70",
   "metadata": {},
   "outputs": [],
   "source": [
    "# external cancer classification => test in train\n",
    "k = 3\n",
    "classifier = KNeighborsClassifier(n_neighbors = k)\n",
    "classifier.fit(best_finetuned_train_features, training_cancer_labels)\n",
    "cancer_y_pred = classifier.predict(best_finetuned_external_features)\n",
    "metrics.f1_score(cancer_y_pred,external_cancer_labels,average='weighted')"
   ]
  }
 ],
 "metadata": {
  "kernelspec": {
   "display_name": "Python 3 (ipykernel)",
   "language": "python",
   "name": "python3"
  },
  "language_info": {
   "codemirror_mode": {
    "name": "ipython",
    "version": 3
   },
   "file_extension": ".py",
   "mimetype": "text/x-python",
   "name": "python",
   "nbconvert_exporter": "python",
   "pygments_lexer": "ipython3",
   "version": "3.10.9"
  }
 },
 "nbformat": 4,
 "nbformat_minor": 5
}
